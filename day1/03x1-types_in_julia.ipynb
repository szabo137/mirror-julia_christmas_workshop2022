{
 "cells": [
  {
   "cell_type": "markdown",
   "id": "d0e6de43",
   "metadata": {
    "slideshow": {
     "slide_type": "slide"
    }
   },
   "source": [
    "# Types and Multiple dispatch"
   ]
  },
  {
   "cell_type": "markdown",
   "id": "045124f3",
   "metadata": {
    "slideshow": {
     "slide_type": "subslide"
    }
   },
   "source": [
    "## What is a _type_ ? "
   ]
  },
  {
   "cell_type": "markdown",
   "id": "d70c08c7",
   "metadata": {
    "slideshow": {
     "slide_type": "fragment"
    }
   },
   "source": [
    "> \"In a programming language, a *type* is a description of a set of values and a set of allowed operations on those values.\"\n",
    "\n",
    "(IBM Enterprise PL/1 for z/OS 5.3:2019)\n"
   ]
  },
  {
   "cell_type": "markdown",
   "id": "c3bc1061",
   "metadata": {
    "slideshow": {
     "slide_type": "slide"
    }
   },
   "source": [
    "# Two kinds of type systems "
   ]
  },
  {
   "cell_type": "markdown",
   "id": "11c018fa",
   "metadata": {
    "slideshow": {
     "slide_type": "subslide"
    }
   },
   "source": [
    "## ➡️ statically typed systems\n",
    "\n",
    "* The type of every variable is known  at compile time (`C, C++, Rust, Fortran90`)\n",
    "* highly optimizable\n",
    "* easy to verify correctness \n",
    "* one must know everything in prior...\n",
    "* ... or deal with, e.g., polymorphism"
   ]
  },
  {
   "cell_type": "markdown",
   "id": "f54b2bc9",
   "metadata": {
    "slideshow": {
     "slide_type": "subslide"
    }
   },
   "source": [
    "## ➡️ dynamically typed systems\n",
    "\n",
    "* Nothing is known at compile time\n",
    "* types are inferred at runtime\n",
    "* higher level of expressiveness\n",
    "* generic implementations are possible\n",
    "* hard to optimize/verify"
   ]
  },
  {
   "cell_type": "markdown",
   "id": "a1324858",
   "metadata": {
    "slideshow": {
     "slide_type": "subslide"
    }
   },
   "source": [
    "# and what uses Julia? "
   ]
  },
  {
   "cell_type": "markdown",
   "id": "1c4c19a1",
   "metadata": {
    "slideshow": {
     "slide_type": "fragment"
    }
   },
   "source": [
    "## ➡️ best of both worlds!\n",
    "\n",
    "* in general, Julia is dynamically typed\n",
    "* allows to indicate the type of certain values at compile time"
   ]
  },
  {
   "cell_type": "markdown",
   "id": "fb172649",
   "metadata": {
    "slideshow": {
     "slide_type": "slide"
    }
   },
   "source": [
    "# Julia's type system"
   ]
  },
  {
   "cell_type": "markdown",
   "id": "bc5ecf7f",
   "metadata": {
    "slideshow": {
     "slide_type": "slide"
    }
   },
   "source": [
    "# Concrete types\n",
    "* are directly initialised\n",
    "* have precise type declaration\n",
    "* can not be subtyped"
   ]
  },
  {
   "cell_type": "code",
   "execution_count": null,
   "id": "c094e726",
   "metadata": {
    "slideshow": {
     "slide_type": "fragment"
    }
   },
   "outputs": [],
   "source": [
    "my_integer_implicite = 1\n",
    "typeof(my_integer_implicite)"
   ]
  },
  {
   "cell_type": "code",
   "execution_count": null,
   "id": "1f6bfbff",
   "metadata": {
    "slideshow": {
     "slide_type": "fragment"
    }
   },
   "outputs": [],
   "source": [
    "my_integer_explicite::Int64 = 1\n",
    "typeof(my_integer_explicite)"
   ]
  },
  {
   "cell_type": "markdown",
   "id": "6da79de6",
   "metadata": {
    "slideshow": {
     "slide_type": "fragment"
    }
   },
   "source": [
    "➡️ In Julia, type declarations are done using `::`."
   ]
  },
  {
   "cell_type": "markdown",
   "id": "418df3bf",
   "metadata": {
    "slideshow": {
     "slide_type": "subslide"
    }
   },
   "source": [
    "# Abstract types\n",
    "* used to address several types\n",
    "* can not be initialised\n",
    "* can only be subtyped\n",
    "* are used as nodes in a type hierarchy"
   ]
  },
  {
   "cell_type": "markdown",
   "id": "e7d44b9a",
   "metadata": {
    "slideshow": {
     "slide_type": "fragment"
    }
   },
   "source": [
    "`Cat <: Felid <: Carnivore <: Mammal <: Vertebrate <: Animal`\n"
   ]
  },
  {
   "cell_type": "markdown",
   "id": "11b8bd39",
   "metadata": {
    "slideshow": {
     "slide_type": "fragment"
    }
   },
   "source": [
    "➡️ In Julia, subtyping is done using `<:`."
   ]
  },
  {
   "cell_type": "markdown",
   "id": "878eba80",
   "metadata": {},
   "source": [
    "➡️ only the type `Cat` can be concrete, all the other are abstract. "
   ]
  },
  {
   "cell_type": "markdown",
   "id": "14ae38c6",
   "metadata": {
    "slideshow": {
     "slide_type": "-"
    }
   },
   "source": [
    "➡️ Julia does not allow sub-typing from a concrete type. \n"
   ]
  },
  {
   "cell_type": "markdown",
   "id": "28fff98d",
   "metadata": {
    "slideshow": {
     "slide_type": "slide"
    }
   },
   "source": [
    "# toolbox addition\n",
    "## sub- and supertypes"
   ]
  },
  {
   "cell_type": "code",
   "execution_count": null,
   "id": "86fef7f3",
   "metadata": {
    "slideshow": {
     "slide_type": "fragment"
    }
   },
   "outputs": [],
   "source": [
    "abstract type Carnivore end\n",
    "abstract type Felid <: Carnivore end\n",
    "abstract type Cat <: Felid end"
   ]
  },
  {
   "cell_type": "code",
   "execution_count": null,
   "id": "17f52363",
   "metadata": {
    "slideshow": {
     "slide_type": "fragment"
    }
   },
   "outputs": [],
   "source": [
    "@show Cat <: Felid\n",
    "@show Cat <: Carnivore\n",
    "@show supertype(Cat)\n",
    "@show supertype(Felid)\n",
    "@show subtypes(Carnivore);"
   ]
  },
  {
   "cell_type": "markdown",
   "id": "cd6a34b7",
   "metadata": {
    "slideshow": {
     "slide_type": "slide"
    }
   },
   "source": [
    "# Julia's concrete types"
   ]
  },
  {
   "cell_type": "markdown",
   "id": "0e36d80c",
   "metadata": {
    "slideshow": {
     "slide_type": "subslide"
    }
   },
   "source": [
    "# Primitive types\n",
    "* a type is primitive, if it represents plain old bits\n",
    "* Examples are the standard IEEE numeric types: \n",
    "\n",
    "```\n",
    "UInt64, Int64, Float64 … \n",
    "Bool\n",
    "```\n",
    "\n",
    "➡️ These types exactly match the respective C-types."
   ]
  },
  {
   "cell_type": "code",
   "execution_count": null,
   "id": "c6d79cd7",
   "metadata": {
    "slideshow": {
     "slide_type": "subslide"
    }
   },
   "outputs": [],
   "source": [
    "HTML(\"\"\"<img src=\"numeric_types.png\", width=700px>\"\"\")"
   ]
  },
  {
   "cell_type": "markdown",
   "id": "bf916853",
   "metadata": {
    "slideshow": {
     "slide_type": "slide"
    }
   },
   "source": [
    "# Composite types\n",
    "* composition of several types instances\n",
    "* each instance stored in the composition is stored in a named field\n",
    "* a composition is a type by itself"
   ]
  },
  {
   "cell_type": "markdown",
   "id": "e3521913",
   "metadata": {
    "slideshow": {
     "slide_type": "fragment"
    }
   },
   "source": [
    "## Similarity to python\n",
    "* the _composite types_ are called _objects_\n",
    "* the _named fields_ are called _attributes_\n",
    "* However: member functions are a different language feature"
   ]
  },
  {
   "cell_type": "markdown",
   "id": "d38a9312",
   "metadata": {
    "slideshow": {
     "slide_type": "subslide"
    }
   },
   "source": [
    "# Example: composite type"
   ]
  },
  {
   "cell_type": "code",
   "execution_count": null,
   "id": "ff6effbd",
   "metadata": {
    "slideshow": {
     "slide_type": "fragment"
    }
   },
   "outputs": [],
   "source": [
    "struct Rectangle\n",
    "\twidth::Float64\n",
    "\theight::Float64\n",
    "end\n",
    "@show fieldnames(Rectangle);"
   ]
  },
  {
   "cell_type": "code",
   "execution_count": null,
   "id": "4ff0f097",
   "metadata": {
    "slideshow": {
     "slide_type": "fragment"
    }
   },
   "outputs": [],
   "source": [
    "rect = Rectangle(1.0,3.0)\n",
    "@show rect\n",
    "@show typeof(rect)\n",
    "@show rect.width\n",
    "@show rect.height;"
   ]
  },
  {
   "cell_type": "markdown",
   "id": "7079a4ee",
   "metadata": {
    "slideshow": {
     "slide_type": "slide"
    }
   },
   "source": [
    "# Mutability\n",
    "\n",
    "➡️ by default, primitive and composite types are immutable.\n",
    "\n",
    "### Advantages\n",
    "* performance: immutable structures can be packed into arrays more easily\n",
    "* it is impossible to violate the types constructor invariants\n",
    "* code using immutable types is usually easier to understand\n",
    "\n",
    "➡️ making a type mutable needs to be indicated"
   ]
  },
  {
   "cell_type": "markdown",
   "id": "6fb7a5a8",
   "metadata": {
    "slideshow": {
     "slide_type": "subslide"
    }
   },
   "source": [
    "# Example: Mutability"
   ]
  },
  {
   "cell_type": "code",
   "execution_count": null,
   "id": "3b52b5b8",
   "metadata": {
    "slideshow": {
     "slide_type": "fragment"
    }
   },
   "outputs": [],
   "source": [
    "mutable struct SpaceShip\n",
    "    latitude::Int64\n",
    "    longitude::Int64\n",
    "end\n",
    "\n",
    "fly_to!(ship, lat, lon) = (ship.latitude=lat; ship.longitude=lon)"
   ]
  },
  {
   "cell_type": "code",
   "execution_count": null,
   "id": "29d5d68c",
   "metadata": {
    "slideshow": {
     "slide_type": "fragment"
    }
   },
   "outputs": [],
   "source": [
    "enterprise = SpaceShip(0,0)\n",
    "@show enterprise;"
   ]
  },
  {
   "cell_type": "code",
   "execution_count": null,
   "id": "b0ad57b7",
   "metadata": {
    "slideshow": {
     "slide_type": "fragment"
    }
   },
   "outputs": [],
   "source": [
    "fly_to!(enterprise,120,100);"
   ]
  },
  {
   "cell_type": "code",
   "execution_count": null,
   "id": "229e5a71",
   "metadata": {
    "slideshow": {
     "slide_type": "fragment"
    }
   },
   "outputs": [],
   "source": [
    "@show enterprise;"
   ]
  },
  {
   "cell_type": "markdown",
   "id": "fa1d7c69",
   "metadata": {
    "slideshow": {
     "slide_type": "slide"
    }
   },
   "source": [
    "# Parametric types\n",
    "* types can take other types as parameters\n",
    "* every abstract or concrete type can be parameterised\n",
    "* this easely enables polymorphism (and much more!)"
   ]
  },
  {
   "cell_type": "markdown",
   "id": "f46dec0d",
   "metadata": {
    "slideshow": {
     "slide_type": "subslide"
    }
   },
   "source": [
    "# Example: parametric type"
   ]
  },
  {
   "cell_type": "code",
   "execution_count": null,
   "id": "f309921a",
   "metadata": {
    "slideshow": {
     "slide_type": "fragment"
    }
   },
   "outputs": [],
   "source": [
    "struct ComplexNumber{T<:Real} \n",
    "    real::T\n",
    "    imag::T\n",
    "end"
   ]
  },
  {
   "cell_type": "code",
   "execution_count": null,
   "id": "9faa2d19",
   "metadata": {
    "slideshow": {
     "slide_type": "fragment"
    }
   },
   "outputs": [],
   "source": [
    "clpx_Int64 = ComplexNumber(1,3)\n",
    "@show clpx_Int64;"
   ]
  },
  {
   "cell_type": "code",
   "execution_count": null,
   "id": "8c4935b4",
   "metadata": {
    "slideshow": {
     "slide_type": "fragment"
    }
   },
   "outputs": [],
   "source": [
    "clpx_f64 = ComplexNumber(1.0,3.0)\n",
    "@show clpx_f64;"
   ]
  }
 ],
 "metadata": {
  "kernelspec": {
   "display_name": "Julia 1.9.3",
   "language": "julia",
   "name": "julia-1.9"
  },
  "language_info": {
   "file_extension": ".jl",
   "mimetype": "application/julia",
   "name": "julia",
   "version": "1.9.3"
  }
 },
 "nbformat": 4,
 "nbformat_minor": 5
}
