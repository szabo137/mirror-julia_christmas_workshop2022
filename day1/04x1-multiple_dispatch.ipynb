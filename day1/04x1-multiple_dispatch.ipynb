{
 "cells": [
  {
   "cell_type": "markdown",
   "id": "9f46dfd7",
   "metadata": {
    "slideshow": {
     "slide_type": "slide"
    }
   },
   "source": [
    "# Multiple dispatch in Julia"
   ]
  },
  {
   "cell_type": "markdown",
   "id": "1b7ab001",
   "metadata": {
    "slideshow": {
     "slide_type": "slide"
    }
   },
   "source": [
    "# The expression problem"
   ]
  },
  {
   "cell_type": "markdown",
   "id": "8daf11f1",
   "metadata": {
    "slideshow": {
     "slide_type": "fragment"
    }
   },
   "source": [
    "> To which degree can your application be structured in such a way that both the data model and the set of virtual operations over it can be extended without the need to modify existing code, without the need for code repetition and without runtime type errors.\n",
    "\n",
    "\n",
    "(Torgersen M. The expression problem revisited.)"
   ]
  },
  {
   "cell_type": "markdown",
   "id": "d869c733",
   "metadata": {
    "slideshow": {
     "slide_type": "fragment"
    }
   },
   "source": [
    "**types:**       `int`, `float`, `double`, `vector`, ...  \n",
    "\n",
    "**operations:**  `+`, `-`, `*`, `/`, `%`, `push`, `pop`, ..."
   ]
  },
  {
   "cell_type": "markdown",
   "id": "e8b526b1",
   "metadata": {
    "slideshow": {
     "slide_type": "subslide"
    }
   },
   "source": [
    "# Example\n"
   ]
  },
  {
   "cell_type": "markdown",
   "id": "6ff3cd56",
   "metadata": {
    "slideshow": {
     "slide_type": "fragment"
    }
   },
   "source": [
    "### Polynomial class (Alice nice library)\n",
    "* evaluation\n",
    "* adding/substraction\n",
    "* multiplication\n",
    "* differentiation\n",
    "* etc.\n"
   ]
  },
  {
   "cell_type": "markdown",
   "id": "ae949f6d",
   "metadata": {
    "slideshow": {
     "slide_type": "fragment"
    }
   },
   "source": [
    "### \"Polynomial geometry\" (Bob's awesome extension)\n",
    "* inner products\n",
    "* affine transformations\n",
    "* \"angles\" between polynomials\n",
    "* etc."
   ]
  },
  {
   "cell_type": "markdown",
   "id": "38e0cff7",
   "metadata": {
    "slideshow": {
     "slide_type": "subslide"
    }
   },
   "source": [
    "# Solutions from OOP\n"
   ]
  },
  {
   "cell_type": "markdown",
   "id": "833ff63a",
   "metadata": {
    "slideshow": {
     "slide_type": "fragment"
    }
   },
   "source": [
    "## Extending the exsiting library\n",
    "* convincing Alice to include Bob's functionality\n",
    "* who does the maintenance? Alice? Bob? \n"
   ]
  },
  {
   "cell_type": "markdown",
   "id": "a929a083",
   "metadata": {
    "slideshow": {
     "slide_type": "fragment"
    }
   },
   "source": [
    "## Inheritence\n",
    "* Bob inherit from Alice polynomial class\n",
    "* the new class needs a new name\n",
    "* what if Alice wants to change her lib? (reverse API problem)\n",
    "* what if Charly wants to extent this as well? Multiple inheritence? "
   ]
  },
  {
   "cell_type": "markdown",
   "id": "8dc22b4f",
   "metadata": {
    "slideshow": {
     "slide_type": "subslide"
    }
   },
   "source": [
    "## How to introduce new types the existing operations can be applyed on?\n",
    "* easy in object oriented languages\n",
    "* hard in functional languages\n",
    "\n"
   ]
  },
  {
   "cell_type": "markdown",
   "id": "14aad451",
   "metadata": {
    "slideshow": {
     "slide_type": "fragment"
    }
   },
   "source": [
    "## How to introduce new operations, which can be applyed on the existing types?\n",
    "* hard in object oriented languages\n",
    "* easy in functional languages"
   ]
  },
  {
   "cell_type": "markdown",
   "id": "3bf573a9",
   "metadata": {
    "slideshow": {
     "slide_type": "fragment"
    }
   },
   "source": [
    "## How to do both?\n",
    "* the actual expression problem"
   ]
  },
  {
   "cell_type": "markdown",
   "id": "e17d5fba",
   "metadata": {
    "slideshow": {
     "slide_type": "slide"
    }
   },
   "source": [
    "# Solution in Julia"
   ]
  },
  {
   "cell_type": "markdown",
   "id": "1be48f17",
   "metadata": {
    "slideshow": {
     "slide_type": "fragment"
    }
   },
   "source": [
    "# ➡️ Multiple dispatch"
   ]
  },
  {
   "cell_type": "markdown",
   "id": "44a24c32",
   "metadata": {
    "slideshow": {
     "slide_type": "subslide"
    }
   },
   "source": [
    "# Example"
   ]
  },
  {
   "cell_type": "code",
   "execution_count": null,
   "id": "06dd74d7",
   "metadata": {
    "slideshow": {
     "slide_type": "fragment"
    }
   },
   "outputs": [],
   "source": [
    "f(x::Int64) = \"This is the integer version: $x\"\n",
    "f(x::Float64) = \"This is the float version: $x\"\n",
    "f(x) = \"This is the generic fallback: $x\";"
   ]
  },
  {
   "cell_type": "code",
   "execution_count": null,
   "id": "572277d1",
   "metadata": {
    "slideshow": {
     "slide_type": "fragment"
    }
   },
   "outputs": [],
   "source": [
    "@show f(1);\n",
    "@show f(1.0);\n",
    "@show f(\"🐈\");"
   ]
  },
  {
   "cell_type": "markdown",
   "id": "3fba85b6",
   "metadata": {
    "slideshow": {
     "slide_type": "subslide"
    }
   },
   "source": [
    "# Toolbox addition"
   ]
  },
  {
   "cell_type": "code",
   "execution_count": null,
   "id": "6a4ee66d",
   "metadata": {
    "slideshow": {
     "slide_type": "subslide"
    }
   },
   "outputs": [],
   "source": [
    "@code_warntype f(1)"
   ]
  },
  {
   "cell_type": "code",
   "execution_count": null,
   "id": "6970c044",
   "metadata": {
    "slideshow": {
     "slide_type": "fragment"
    }
   },
   "outputs": [],
   "source": [
    "@code_warntype f(1.0)"
   ]
  },
  {
   "cell_type": "markdown",
   "id": "e6734b6d",
   "metadata": {
    "slideshow": {
     "slide_type": "fragment"
    }
   },
   "source": [
    "➡️ different outputs for different *input types*"
   ]
  },
  {
   "cell_type": "markdown",
   "id": "2e5e1910",
   "metadata": {
    "slideshow": {
     "slide_type": "subslide"
    }
   },
   "source": [
    "# This is called (single) dispatch!\n",
    "* the actual method is selected w.r.t. the input type\n"
   ]
  },
  {
   "cell_type": "markdown",
   "id": "dbb6d821",
   "metadata": {
    "slideshow": {
     "slide_type": "subslide"
    }
   },
   "source": [
    "\n",
    "## What if we have more arguments?"
   ]
  },
  {
   "cell_type": "code",
   "execution_count": null,
   "id": "c93d00c6",
   "metadata": {
    "slideshow": {
     "slide_type": "fragment"
    }
   },
   "outputs": [],
   "source": [
    "@show 1*1\n",
    "@show 1.0*1.0\n",
    "@show \"🐱\"*\"🐱\";"
   ]
  },
  {
   "cell_type": "code",
   "execution_count": null,
   "id": "b426edce",
   "metadata": {
    "slideshow": {
     "slide_type": "subslide"
    }
   },
   "outputs": [],
   "source": [
    "@code_warntype 1*1"
   ]
  },
  {
   "cell_type": "code",
   "execution_count": null,
   "id": "ac474b79",
   "metadata": {
    "slideshow": {
     "slide_type": "fragment"
    }
   },
   "outputs": [],
   "source": [
    "@code_warntype 1.0*1.0"
   ]
  },
  {
   "cell_type": "code",
   "execution_count": null,
   "id": "3e987ced",
   "metadata": {
    "slideshow": {
     "slide_type": "subslide"
    }
   },
   "outputs": [],
   "source": [
    "@code_warntype 1*1.0"
   ]
  },
  {
   "cell_type": "code",
   "execution_count": null,
   "id": "027e56ff",
   "metadata": {
    "slideshow": {
     "slide_type": "fragment"
    }
   },
   "outputs": [],
   "source": [
    "@code_warntype \"🐱\"*\"🐱\""
   ]
  },
  {
   "cell_type": "markdown",
   "id": "05b9761d",
   "metadata": {
    "slideshow": {
     "slide_type": "subslide"
    }
   },
   "source": [
    "# This is multiple dispatch!\n",
    "* the actual method is selected considering the most specialised type for **each** argument"
   ]
  },
  {
   "cell_type": "markdown",
   "id": "867c11a0",
   "metadata": {
    "slideshow": {
     "slide_type": "slide"
    }
   },
   "source": [
    "# A solution to the expression problem in Julia"
   ]
  },
  {
   "cell_type": "markdown",
   "id": "9343b772",
   "metadata": {
    "slideshow": {
     "slide_type": "subslide"
    }
   },
   "source": [
    "## Example: inner sum\n",
    "credits: Stefan Karpinski"
   ]
  },
  {
   "cell_type": "code",
   "execution_count": null,
   "id": "8b7e9ae3",
   "metadata": {
    "slideshow": {
     "slide_type": "fragment"
    }
   },
   "outputs": [],
   "source": [
    "using LinearAlgebra\n",
    "using BenchmarkTools\n",
    "\n",
    "function inner_sum(A,vs)\n",
    "    t = zero(eltype(A))\n",
    "    for v in vs\n",
    "        t += inner(v,A,v) # dispatch here\n",
    "    end\n",
    "    return t\n",
    "end\n",
    "\n",
    "inner(v,A,w) = dot(v,A*w) # much generic!"
   ]
  },
  {
   "cell_type": "markdown",
   "id": "a146eefa",
   "metadata": {
    "slideshow": {
     "slide_type": "fragment"
    }
   },
   "source": [
    "➡️ Stefan's pro tip: to write highly generic code, just leave off all the types"
   ]
  },
  {
   "cell_type": "code",
   "execution_count": null,
   "id": "3dca845f",
   "metadata": {
    "slideshow": {
     "slide_type": "subslide"
    }
   },
   "outputs": [],
   "source": [
    "A = rand(10,10)\n",
    "vs = [rand(10) for _ in 1:4]\n",
    "\n",
    "@show inner_sum(A,vs)\n",
    "@benchmark inner_sum($A,$vs)"
   ]
  },
  {
   "cell_type": "markdown",
   "id": "27a9ff3a",
   "metadata": {
    "slideshow": {
     "slide_type": "fragment"
    }
   },
   "source": [
    "* very generic!\n",
    "* adds new functions to existing types!"
   ]
  },
  {
   "cell_type": "markdown",
   "id": "80af785b",
   "metadata": {
    "slideshow": {
     "slide_type": "subslide"
    }
   },
   "source": [
    "# The one-hot vector"
   ]
  },
  {
   "cell_type": "markdown",
   "id": "b3a30baf",
   "metadata": {},
   "source": [
    "$v = (0,\\dots,0,1,0,\\dots,0)$"
   ]
  },
  {
   "cell_type": "code",
   "execution_count": null,
   "id": "f67c26b7",
   "metadata": {
    "slideshow": {
     "slide_type": "fragment"
    }
   },
   "outputs": [],
   "source": [
    "struct OneHotVector <: AbstractVector{Bool}\n",
    "    hot::Int64\n",
    "    len::Int64\n",
    "end"
   ]
  },
  {
   "cell_type": "code",
   "execution_count": null,
   "id": "3268b71c",
   "metadata": {
    "slideshow": {
     "slide_type": "fragment"
    }
   },
   "outputs": [],
   "source": [
    "Base.size(v::OneHotVector) = (v.len,)\n",
    "Base.getindex(v::OneHotVector,idx::Integer) = (idx==v.hot)"
   ]
  },
  {
   "cell_type": "code",
   "execution_count": null,
   "id": "e4c008e8",
   "metadata": {
    "slideshow": {
     "slide_type": "subslide"
    }
   },
   "outputs": [],
   "source": [
    "A = rand(10,10)\n",
    "one_hots = [OneHotVector(rand(1:10),10) for _ in 1:4]\n",
    "\n",
    "@show inner_sum(A,one_hots)\n",
    "@benchmark inner_sum($A,$one_hots)"
   ]
  },
  {
   "cell_type": "markdown",
   "id": "9f4fad2f",
   "metadata": {
    "slideshow": {
     "slide_type": "fragment"
    }
   },
   "source": [
    "* uses only generic fallbacks!\n",
    "* not that impressive!"
   ]
  },
  {
   "cell_type": "markdown",
   "id": "0af737ff",
   "metadata": {
    "slideshow": {
     "slide_type": "subslide"
    }
   },
   "source": [
    "# How efficient can it be?"
   ]
  },
  {
   "cell_type": "markdown",
   "id": "2f198a51",
   "metadata": {
    "slideshow": {
     "slide_type": "subslide"
    }
   },
   "source": [
    "# Matrix multiplication\n",
    "\n",
    "## Standard matmul\n",
    "\n",
    "$A*v := \\left(\\sum_{n=1}^N A_{mn}v_n\\right)_{m=1}^N$\n",
    "\n",
    "\n",
    "\n",
    "\n",
    "## The one-hot matmul\n",
    "\n",
    "$A*v := \\left(A_{m n_{\\mathrm{hot}}}\\right)_{m=1}^N$"
   ]
  },
  {
   "cell_type": "code",
   "execution_count": null,
   "id": "fc9d8ecc",
   "metadata": {
    "slideshow": {
     "slide_type": "subslide"
    }
   },
   "outputs": [],
   "source": [
    "import Base: *\n",
    "\n",
    "*(A::AbstractMatrix,v::OneHotVector) = A[:, v.hot];"
   ]
  },
  {
   "cell_type": "code",
   "execution_count": null,
   "id": "e426957d",
   "metadata": {
    "slideshow": {
     "slide_type": "fragment"
    }
   },
   "outputs": [],
   "source": [
    "A = rand(10,10)\n",
    "one_hots = [OneHotVector(rand(1:10),10) for _ in 1:4]\n",
    "\n",
    "@show inner_sum(A,one_hots)\n",
    "@benchmark inner_sum($A,$one_hots)"
   ]
  },
  {
   "cell_type": "markdown",
   "id": "d8b17144",
   "metadata": {
    "slideshow": {
     "slide_type": "subslide"
    }
   },
   "source": [
    "# Inner product for one-hots\n",
    "## Standard inner\n",
    "\n",
    "$v*A*w = \\sum_{n=1}^N \\sum_{m=1}^N v_n A_{mn} w_m$\n",
    "\n",
    "\n",
    "\n",
    "\n",
    "## The one-hot inner\n",
    "\n",
    "$v*A*w = A_{n_{\\mathrm{hot}}m_{\\mathrm{hot}}}$"
   ]
  },
  {
   "cell_type": "code",
   "execution_count": null,
   "id": "fbd2f8de",
   "metadata": {
    "slideshow": {
     "slide_type": "subslide"
    }
   },
   "outputs": [],
   "source": [
    "function inner(v::OneHotVector,A::AbstractMatrix, w::OneHotVector)\n",
    "    return A[v.hot,w.hot]\n",
    "end"
   ]
  },
  {
   "cell_type": "code",
   "execution_count": null,
   "id": "a6c6f284",
   "metadata": {
    "slideshow": {
     "slide_type": "fragment"
    }
   },
   "outputs": [],
   "source": [
    "A = rand(10,10)\n",
    "one_hots = [OneHotVector(rand(1:10),10) for _ in 1:4]\n",
    "\n",
    "@show inner_sum(A,one_hots)\n",
    "@benchmark inner_sum($A,$one_hots)"
   ]
  },
  {
   "cell_type": "markdown",
   "id": "d5463b79",
   "metadata": {
    "slideshow": {
     "slide_type": "slide"
    }
   },
   "source": [
    "# Summary\n"
   ]
  },
  {
   "cell_type": "markdown",
   "id": "ee765c3a",
   "metadata": {
    "slideshow": {
     "slide_type": "fragment"
    }
   },
   "source": [
    "## expression problem\n",
    "* hard to solve with build-ins of most functional and object oriented languages\n",
    "* possible solution: multiple dispatch"
   ]
  },
  {
   "cell_type": "markdown",
   "id": "18a829a9",
   "metadata": {
    "slideshow": {
     "slide_type": "fragment"
    }
   },
   "source": [
    "## Julia's multiple dispatch\n",
    "* adding new functions to existing types is plain simple (e.g. `inner` and `inner_sum`)\n",
    "* adding new types to existing functionality is also plain simple (e.g. `OneHotVector` on `Base.size`, `Base.getindex`)\n",
    "* can be arbitrary efficient (e.g. specialising `*`, or `inner` on `OneHotVector`)"
   ]
  }
 ],
 "metadata": {
  "kernelspec": {
   "display_name": "Julia 1.9.3",
   "language": "julia",
   "name": "julia-1.9"
  },
  "language_info": {
   "file_extension": ".jl",
   "mimetype": "application/julia",
   "name": "julia",
   "version": "1.9.3"
  }
 },
 "nbformat": 4,
 "nbformat_minor": 5
}
