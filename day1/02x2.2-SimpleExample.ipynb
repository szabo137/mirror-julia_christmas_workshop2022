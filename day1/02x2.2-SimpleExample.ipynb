{
 "cells": [
  {
   "cell_type": "markdown",
   "id": "1b5c7627",
   "metadata": {},
   "source": [
    "# Project Euler - Probelm 25"
   ]
  },
  {
   "cell_type": "markdown",
   "id": "14f326ec",
   "metadata": {},
   "source": [
    "resource: https://projecteuler.net/problem=25"
   ]
  },
  {
   "cell_type": "markdown",
   "id": "0e0b856f",
   "metadata": {},
   "source": [
    "## Problem statement"
   ]
  },
  {
   "cell_type": "markdown",
   "id": "2cbff315",
   "metadata": {},
   "source": [
    "The Fibonacci sequence is defined by the recurrence relation:\n",
    "\n",
    "```Fn = Fn−1 + Fn−2, where F1 = 1 and F2 = 1.```\n",
    "\n",
    "\n",
    "Hence the first 12 terms will be:\n",
    "\n",
    "```\n",
    "F1 = 1\n",
    "F2 = 1\n",
    "F3 = 2\n",
    "F4 = 3\n",
    "F5 = 5\n",
    "F6 = 8\n",
    "F7 = 13\n",
    "F8 = 21\n",
    "F9 = 34\n",
    "F10 = 55\n",
    "F11 = 89\n",
    "F12 = 144\n",
    "```\n",
    "\n",
    "The 12th term, F12, is the first term to contain three digits.\n",
    "\n",
    "What is the index of the first term in the Fibonacci sequence to contain 1000 digits?"
   ]
  },
  {
   "cell_type": "markdown",
   "id": "cc19cc38",
   "metadata": {},
   "source": [
    "# Naive implementation"
   ]
  },
  {
   "cell_type": "code",
   "execution_count": null,
   "id": "7dde5815",
   "metadata": {},
   "outputs": [],
   "source": [
    "\"\"\"\n",
    "    fib(n)\n",
    "\n",
    "Retruns the n-th Fibonacci number. Only positive value for n are allowed.\n",
    "\n",
    "\n",
    "\"\"\"\n",
    "function fib(n)\n",
    "    @assert n>=1\n",
    "    if n == 1\n",
    "        return 1\n",
    "    end\n",
    "    if n == 2\n",
    "        return 1\n",
    "    end\n",
    "    return fib(n-2) + fib(n-1)\n",
    "end\n"
   ]
  },
  {
   "cell_type": "code",
   "execution_count": null,
   "id": "8c9b85df",
   "metadata": {},
   "outputs": [],
   "source": [
    "? fib"
   ]
  },
  {
   "cell_type": "code",
   "execution_count": null,
   "id": "4604fde9",
   "metadata": {},
   "outputs": [],
   "source": [
    "fib(12)"
   ]
  },
  {
   "cell_type": "code",
   "execution_count": null,
   "id": "8d0a7fc7",
   "metadata": {},
   "outputs": [],
   "source": [
    "fib(45)"
   ]
  },
  {
   "cell_type": "markdown",
   "id": "56590342",
   "metadata": {},
   "source": [
    "### ➡️ current implementation is too slow for larger arguments!"
   ]
  },
  {
   "cell_type": "markdown",
   "id": "11b45e54",
   "metadata": {},
   "source": [
    "## second try: memorizing or Caching intermediate results"
   ]
  },
  {
   "cell_type": "code",
   "execution_count": null,
   "id": "0578df6c",
   "metadata": {},
   "outputs": [],
   "source": [
    "\n",
    "mem = Dict(1=>1,2=>1)\n",
    "\n",
    "\"\"\"\n",
    "    fib2(n)\n",
    "\n",
    "Returns the n-th Fibonacci number. Memorizes intermediate results.\n",
    "Only positive value for n are allowed.\n",
    "\"\"\"\n",
    "function fib2(n)\n",
    "    if haskey(mem,n)\n",
    "        return mem[n]\n",
    "    else\n",
    "        temp = fib2(n-2) + fib2(n-1)\n",
    "        mem[n] = temp\n",
    "        return temp\n",
    "    end\n",
    "end"
   ]
  },
  {
   "cell_type": "code",
   "execution_count": null,
   "id": "7b371a0a",
   "metadata": {},
   "outputs": [],
   "source": [
    "? fib2"
   ]
  },
  {
   "cell_type": "code",
   "execution_count": null,
   "id": "8dac15fc",
   "metadata": {},
   "outputs": [],
   "source": [
    "fib2(12)"
   ]
  },
  {
   "cell_type": "code",
   "execution_count": null,
   "id": "9ddb499f",
   "metadata": {},
   "outputs": [],
   "source": [
    "fib2(45)"
   ]
  },
  {
   "cell_type": "code",
   "execution_count": null,
   "id": "5df77450",
   "metadata": {},
   "outputs": [],
   "source": [
    "fib2(1000)"
   ]
  },
  {
   "cell_type": "code",
   "execution_count": null,
   "id": "8d856045",
   "metadata": {},
   "outputs": [],
   "source": [
    "fib2(10000)"
   ]
  },
  {
   "cell_type": "code",
   "execution_count": null,
   "id": "e3030557",
   "metadata": {},
   "outputs": [],
   "source": [
    "for n in 1:100\n",
    "    @show n\n",
    "    @show fib2(n)\n",
    "    println()\n",
    "end"
   ]
  },
  {
   "cell_type": "markdown",
   "id": "d12e851a",
   "metadata": {},
   "source": [
    "### ⚠️ Interger overflow"
   ]
  },
  {
   "cell_type": "markdown",
   "id": "ffefa693",
   "metadata": {},
   "source": [
    "# third try: memorizing intermediate results as BigInt"
   ]
  },
  {
   "cell_type": "code",
   "execution_count": null,
   "id": "617aba95",
   "metadata": {},
   "outputs": [],
   "source": [
    "membig = Dict(\n",
    "    1=>BigInt(1),\n",
    "    2=>BigInt(1)\n",
    ")\n",
    "\n",
    "\"\"\"\n",
    "    fib3(n)\n",
    "\n",
    "Returns the n-th Fibonacci number. Memorizes intermediate results as `BigInt`.\n",
    "Only positive value for n are allowed.\n",
    "\"\"\"\n",
    "function fib3(n)\n",
    "    if haskey(membig,n)\n",
    "        return membig[n]\n",
    "    else\n",
    "        temp = fib3(n-2) + fib3(n-1)\n",
    "        membig[n] = temp\n",
    "        return temp\n",
    "    end\n",
    "end"
   ]
  },
  {
   "cell_type": "code",
   "execution_count": null,
   "id": "2822ff23",
   "metadata": {},
   "outputs": [],
   "source": [
    "? fib3"
   ]
  },
  {
   "cell_type": "code",
   "execution_count": null,
   "id": "00f94a32",
   "metadata": {},
   "outputs": [],
   "source": [
    "for n in 1:100\n",
    "    @show n\n",
    "    @show fib3(n)\n",
    "    println()\n",
    "end"
   ]
  },
  {
   "cell_type": "markdown",
   "id": "cd2bf033",
   "metadata": {},
   "source": [
    "# Number of digits"
   ]
  },
  {
   "cell_type": "code",
   "execution_count": null,
   "id": "cedf0f73",
   "metadata": {},
   "outputs": [],
   "source": [
    "function number_of_digits(n)\n",
    "    return length(string(n))\n",
    "end"
   ]
  },
  {
   "cell_type": "code",
   "execution_count": null,
   "id": "65b5c857",
   "metadata": {},
   "outputs": [],
   "source": [
    "for n in 1:10000\n",
    "    F_n = fib3(n)\n",
    "    if number_of_digits(F_n) >= 1000\n",
    "        @show n\n",
    "        @show F_n\n",
    "        break\n",
    "    end\n",
    "end"
   ]
  },
  {
   "cell_type": "code",
   "execution_count": null,
   "id": "69d18d69",
   "metadata": {},
   "outputs": [],
   "source": []
  }
 ],
 "metadata": {
  "kernelspec": {
   "display_name": "Julia 1.8.1",
   "language": "julia",
   "name": "julia-1.8"
  },
  "language_info": {
   "file_extension": ".jl",
   "mimetype": "application/julia",
   "name": "julia",
   "version": "1.8.1"
  }
 },
 "nbformat": 4,
 "nbformat_minor": 5
}
