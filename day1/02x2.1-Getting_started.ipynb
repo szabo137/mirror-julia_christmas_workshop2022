{
 "cells": [
  {
   "cell_type": "markdown",
   "id": "06d649fc",
   "metadata": {
    "slideshow": {
     "slide_type": "slide"
    }
   },
   "source": [
    "# 🎉 Getting Started"
   ]
  },
  {
   "cell_type": "markdown",
   "id": "4e9308cc",
   "metadata": {
    "slideshow": {
     "slide_type": "slide"
    }
   },
   "source": [
    "# Printing out something"
   ]
  },
  {
   "cell_type": "markdown",
   "id": "63782d84",
   "metadata": {
    "slideshow": {
     "slide_type": "fragment"
    }
   },
   "source": [
    "## ➡️ A simple Julia program"
   ]
  },
  {
   "cell_type": "code",
   "execution_count": null,
   "id": "18f078bf",
   "metadata": {
    "slideshow": {
     "slide_type": "fragment"
    }
   },
   "outputs": [],
   "source": [
    "println(\"Hello, World!\")"
   ]
  },
  {
   "cell_type": "markdown",
   "id": "5db9229f",
   "metadata": {
    "slideshow": {
     "slide_type": "subslide"
    }
   },
   "source": [
    "## ➡️ Printing out numbers"
   ]
  },
  {
   "cell_type": "code",
   "execution_count": null,
   "id": "a8b0007c",
   "metadata": {
    "slideshow": {
     "slide_type": "fragment"
    }
   },
   "outputs": [],
   "source": [
    "println(1)"
   ]
  },
  {
   "cell_type": "markdown",
   "id": "2df09e7e",
   "metadata": {
    "slideshow": {
     "slide_type": "fragment"
    }
   },
   "source": [
    "## ➡️ Printing out arrays"
   ]
  },
  {
   "cell_type": "code",
   "execution_count": null,
   "id": "f1842b95",
   "metadata": {
    "slideshow": {
     "slide_type": "fragment"
    }
   },
   "outputs": [],
   "source": [
    "println([1,2,3])"
   ]
  },
  {
   "cell_type": "markdown",
   "id": "5663def2",
   "metadata": {
    "slideshow": {
     "slide_type": "subslide"
    }
   },
   "source": [
    "## ➡️ Printing out any unicode character"
   ]
  },
  {
   "cell_type": "code",
   "execution_count": null,
   "id": "41d62a15",
   "metadata": {
    "slideshow": {
     "slide_type": "fragment"
    }
   },
   "outputs": [],
   "source": [
    "println(\"🎉\")"
   ]
  },
  {
   "cell_type": "markdown",
   "id": "a5a1fa29",
   "metadata": {
    "slideshow": {
     "slide_type": "slide"
    }
   },
   "source": [
    "## Assign variables"
   ]
  },
  {
   "cell_type": "code",
   "execution_count": null,
   "id": "b159e7dd",
   "metadata": {
    "slideshow": {
     "slide_type": "fragment"
    }
   },
   "outputs": [],
   "source": [
    "myvariable = 5"
   ]
  },
  {
   "cell_type": "markdown",
   "id": "98d2699e",
   "metadata": {
    "slideshow": {
     "slide_type": "fragment"
    }
   },
   "source": [
    "### ➡️ any unicode character is allowed in variable names"
   ]
  },
  {
   "cell_type": "code",
   "execution_count": null,
   "id": "1a0f7853",
   "metadata": {
    "slideshow": {
     "slide_type": "fragment"
    }
   },
   "outputs": [],
   "source": [
    "α = 3 # \\alpha + tab"
   ]
  },
  {
   "cell_type": "code",
   "execution_count": null,
   "id": "754ae4d8",
   "metadata": {
    "slideshow": {
     "slide_type": "fragment"
    }
   },
   "outputs": [],
   "source": [
    "😸 = \"cat\" #  \\:smile_cat: + tab"
   ]
  },
  {
   "cell_type": "markdown",
   "id": "f9034d11",
   "metadata": {
    "slideshow": {
     "slide_type": "slide"
    }
   },
   "source": [
    "# Somewhat more tooling"
   ]
  },
  {
   "cell_type": "markdown",
   "id": "1c1d789d",
   "metadata": {
    "slideshow": {
     "slide_type": "subslide"
    }
   },
   "source": [
    "## The `@show` macro (good for simple debugging)"
   ]
  },
  {
   "cell_type": "code",
   "execution_count": null,
   "id": "f3b882b4",
   "metadata": {
    "slideshow": {
     "slide_type": "fragment"
    }
   },
   "outputs": [],
   "source": [
    "x = 5\n",
    "@show x"
   ]
  },
  {
   "cell_type": "code",
   "execution_count": null,
   "id": "fdd6a790",
   "metadata": {
    "slideshow": {
     "slide_type": "fragment"
    }
   },
   "outputs": [],
   "source": [
    "@show 😸"
   ]
  },
  {
   "cell_type": "markdown",
   "id": "1c3398e1",
   "metadata": {
    "slideshow": {
     "slide_type": "subslide"
    }
   },
   "source": [
    "## Whats the type of a thing?"
   ]
  },
  {
   "cell_type": "code",
   "execution_count": null,
   "id": "aad8851e",
   "metadata": {
    "slideshow": {
     "slide_type": "fragment"
    }
   },
   "outputs": [],
   "source": [
    "@show typeof(myvariable)"
   ]
  },
  {
   "cell_type": "code",
   "execution_count": null,
   "id": "2cdd2b3e",
   "metadata": {
    "slideshow": {
     "slide_type": "fragment"
    }
   },
   "outputs": [],
   "source": [
    "@show typeof(😸)"
   ]
  },
  {
   "cell_type": "markdown",
   "id": "32b57bed",
   "metadata": {
    "slideshow": {
     "slide_type": "subslide"
    }
   },
   "source": [
    "## Need some help!"
   ]
  },
  {
   "cell_type": "code",
   "execution_count": null,
   "id": "cf572d99",
   "metadata": {
    "slideshow": {
     "slide_type": "subslide"
    }
   },
   "outputs": [],
   "source": [
    "? typeof"
   ]
  },
  {
   "cell_type": "code",
   "execution_count": null,
   "id": "330f0d16",
   "metadata": {
    "slideshow": {
     "slide_type": "subslide"
    }
   },
   "outputs": [],
   "source": [
    "? @show"
   ]
  },
  {
   "cell_type": "markdown",
   "id": "0c399875",
   "metadata": {
    "slideshow": {
     "slide_type": "slide"
    }
   },
   "source": [
    "# Simple Arithmetics"
   ]
  },
  {
   "cell_type": "code",
   "execution_count": null,
   "id": "01a91660",
   "metadata": {
    "slideshow": {
     "slide_type": "fragment"
    }
   },
   "outputs": [],
   "source": [
    "x = 5\n",
    "y = 42"
   ]
  },
  {
   "cell_type": "code",
   "execution_count": null,
   "id": "04992463",
   "metadata": {
    "slideshow": {
     "slide_type": "fragment"
    }
   },
   "outputs": [],
   "source": [
    "@show x+y\n",
    "@show x-y\n",
    "@show x*y\n",
    "@show x/y"
   ]
  },
  {
   "cell_type": "markdown",
   "id": "fa5f0143",
   "metadata": {
    "slideshow": {
     "slide_type": "subslide"
    }
   },
   "source": [
    "## ⚠️ Integer under-/overflow may happen"
   ]
  },
  {
   "cell_type": "code",
   "execution_count": null,
   "id": "c6c37aef",
   "metadata": {
    "slideshow": {
     "slide_type": "fragment"
    }
   },
   "outputs": [],
   "source": [
    "a = 1\n",
    "\n",
    "@show typemax(a)\n",
    "@show typemax(a) + 1"
   ]
  },
  {
   "cell_type": "markdown",
   "id": "e0fce05b",
   "metadata": {
    "slideshow": {
     "slide_type": "fragment"
    }
   },
   "source": [
    "## possible solution: BigInt"
   ]
  },
  {
   "cell_type": "code",
   "execution_count": null,
   "id": "acb8db06",
   "metadata": {
    "slideshow": {
     "slide_type": "fragment"
    }
   },
   "outputs": [],
   "source": [
    "big_a = BigInt(typemax(a))\n",
    "\n",
    "@show big_a\n",
    "@show big_a + 1"
   ]
  },
  {
   "cell_type": "markdown",
   "id": "dd561650",
   "metadata": {
    "slideshow": {
     "slide_type": "slide"
    }
   },
   "source": [
    "# Simple Boolians"
   ]
  },
  {
   "cell_type": "code",
   "execution_count": null,
   "id": "92b22a66",
   "metadata": {
    "slideshow": {
     "slide_type": "fragment"
    }
   },
   "outputs": [],
   "source": [
    "b1 = true  # lower case!\n",
    "b2 = false # lower case!"
   ]
  },
  {
   "cell_type": "code",
   "execution_count": null,
   "id": "8fbe8068",
   "metadata": {
    "slideshow": {
     "slide_type": "fragment"
    }
   },
   "outputs": [],
   "source": [
    "@show b1 & b2\n",
    "@show b1 | b2\n",
    "@show !b1"
   ]
  },
  {
   "cell_type": "markdown",
   "id": "1e4ecea6",
   "metadata": {
    "slideshow": {
     "slide_type": "slide"
    }
   },
   "source": [
    "# Simple comparison"
   ]
  },
  {
   "cell_type": "code",
   "execution_count": null,
   "id": "3b2f4519",
   "metadata": {
    "slideshow": {
     "slide_type": "fragment"
    }
   },
   "outputs": [],
   "source": [
    "a = 3\n",
    "b = 5"
   ]
  },
  {
   "cell_type": "code",
   "execution_count": null,
   "id": "df9a10f9",
   "metadata": {
    "slideshow": {
     "slide_type": "fragment"
    }
   },
   "outputs": [],
   "source": [
    "@show a <= b\n",
    "@show a == b\n",
    "@show a > b"
   ]
  },
  {
   "cell_type": "markdown",
   "id": "03208afa",
   "metadata": {
    "slideshow": {
     "slide_type": "slide"
    }
   },
   "source": [
    "# Strings"
   ]
  },
  {
   "cell_type": "markdown",
   "id": "f9c208e9",
   "metadata": {
    "slideshow": {
     "slide_type": "subslide"
    }
   },
   "source": [
    "### ➡️ strings are initialized with double quotation marks"
   ]
  },
  {
   "cell_type": "code",
   "execution_count": null,
   "id": "4cb46891",
   "metadata": {
    "slideshow": {
     "slide_type": "fragment"
    }
   },
   "outputs": [],
   "source": [
    "mystring = \"This is my first string!\" \n",
    "# actually not, because the cat was first! "
   ]
  },
  {
   "cell_type": "code",
   "execution_count": null,
   "id": "52a31f23",
   "metadata": {
    "slideshow": {
     "slide_type": "fragment"
    }
   },
   "outputs": [],
   "source": [
    "typeof(mystring)"
   ]
  },
  {
   "cell_type": "markdown",
   "id": "cc4f0d13",
   "metadata": {
    "slideshow": {
     "slide_type": "fragment"
    }
   },
   "source": [
    "### ➡️ single quotation marks `' '` are not for strings but for character"
   ]
  },
  {
   "cell_type": "code",
   "execution_count": null,
   "id": "00eb1042",
   "metadata": {
    "slideshow": {
     "slide_type": "fragment"
    }
   },
   "outputs": [],
   "source": [
    "ch = 'a'\n",
    "typeof(ch)"
   ]
  },
  {
   "cell_type": "markdown",
   "id": "f07e98d2",
   "metadata": {
    "slideshow": {
     "slide_type": "subslide"
    }
   },
   "source": [
    "## String concatenation "
   ]
  },
  {
   "cell_type": "code",
   "execution_count": null,
   "id": "13040f50",
   "metadata": {
    "slideshow": {
     "slide_type": "fragment"
    }
   },
   "outputs": [],
   "source": [
    "s1 = \"How many cats \";\n",
    "s2 = \"is too many cats?\";\n",
    "😺 = 10;\n",
    "\n",
    "# credits: logankilpatrick"
   ]
  },
  {
   "cell_type": "code",
   "execution_count": null,
   "id": "48e41579",
   "metadata": {
    "slideshow": {
     "slide_type": "fragment"
    }
   },
   "outputs": [],
   "source": [
    "string(s1,s2)"
   ]
  },
  {
   "cell_type": "code",
   "execution_count": null,
   "id": "18ab111c",
   "metadata": {
    "slideshow": {
     "slide_type": "fragment"
    }
   },
   "outputs": [],
   "source": [
    "string(\"I don't know, but \", 😺, \" is too few.\")"
   ]
  }
 ],
 "metadata": {
  "kernelspec": {
   "display_name": "Julia 1.8.5",
   "language": "julia",
   "name": "julia-1.8"
  },
  "language_info": {
   "file_extension": ".jl",
   "mimetype": "application/julia",
   "name": "julia",
   "version": "1.8.1"
  }
 },
 "nbformat": 4,
 "nbformat_minor": 5
}
